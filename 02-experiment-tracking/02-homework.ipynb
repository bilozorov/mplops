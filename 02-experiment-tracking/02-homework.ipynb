{
 "cells": [
  {
   "cell_type": "code",
   "execution_count": 4,
   "metadata": {},
   "outputs": [],
   "source": [
    "import pandas as pd\n",
    "import os"
   ]
  },
  {
   "cell_type": "markdown",
   "metadata": {},
   "source": [
    "## Homework from Week2\n",
    "\n",
    "The goal of this homework is to get familiar with MLflow, the tool for experiment tracking and \n",
    "model management."
   ]
  },
  {
   "cell_type": "markdown",
   "metadata": {},
   "source": [
    "## Q1. Install MLflow\n",
    "\n",
    "To get started with MLflow you'll need to install the MLflow Python package.\n",
    "\n",
    "For this we recommend creating a separate Python environment, for example, you can use [conda environments](https://docs.conda.io/projects/conda/en/latest/user-guide/getting-started.html#managing-envs), and then install the package there with `pip` or `conda`.\n",
    "\n",
    "Once you installed the package, run the command `mlflow --version` and check the output.\n",
    "\n",
    "What's the version that you have?"
   ]
  },
  {
   "cell_type": "code",
   "execution_count": 1,
   "metadata": {},
   "outputs": [
    {
     "name": "stdout",
     "output_type": "stream",
     "text": [
      "mlflow, version 2.13.0\n"
     ]
    }
   ],
   "source": [
    "!mlflow --version"
   ]
  },
  {
   "cell_type": "markdown",
   "metadata": {},
   "source": [
    "## Q2. Download and preprocess the data\n",
    "\n",
    "We'll use the Green Taxi Trip Records dataset to predict the duration of each trip. \n",
    "\n",
    "Download the data for January, February and March 2023 in parquet format from [here](https://www1.nyc.gov/site/tlc/about/tlc-trip-record-data.page).\n",
    "\n",
    "Use the script `preprocess_data.py` located in the folder [`homework`](homework) to preprocess the data.\n",
    "\n",
    "The script will:\n",
    "\n",
    "* load the data from the folder `<TAXI_DATA_FOLDER>` (the folder where you have downloaded the data),\n",
    "* fit a `DictVectorizer` on the training set (January 2023 data),\n",
    "* save the preprocessed datasets and the `DictVectorizer` to disk.\n",
    "\n",
    "Your task is to download the datasets and then execute this command:\n",
    "\n",
    "```\n",
    "python preprocess_data.py --raw_data_path <TAXI_DATA_FOLDER> --dest_path ./output\n",
    "```\n",
    "\n",
    "Tip: go to `02-experiment-tracking/homework/` folder before executing the command and change the value of `<TAXI_DATA_FOLDER>` to the location where you saved the data.\n",
    "\n",
    "How many files were saved to `OUTPUT_FOLDER`?\n",
    "\n",
    "* 1\n",
    "* 3\n",
    "* 4\n",
    "* 7"
   ]
  },
  {
   "cell_type": "code",
   "execution_count": 9,
   "metadata": {},
   "outputs": [],
   "source": [
    "raw_data_path = \"data/raw/green\"\n",
    "dest_path = \"output\"\n",
    "script_path = \"scripts\""
   ]
  },
  {
   "cell_type": "code",
   "execution_count": 10,
   "metadata": {},
   "outputs": [
    {
     "name": "stdout",
     "output_type": "stream",
     "text": [
      "Directory 'data/raw/green' created.\n"
     ]
    }
   ],
   "source": [
    "df_01_2023_green = pd.read_parquet(\n",
    "    \"https://d37ci6vzurychx.cloudfront.net/trip-data/green_tripdata_2023-01.parquet\"\n",
    ")\n",
    "df_02_2023_green = pd.read_parquet(\n",
    "    \"https://d37ci6vzurychx.cloudfront.net/trip-data/green_tripdata_2023-02.parquet\"\n",
    ")\n",
    "df_03_2023_green = pd.read_parquet(\n",
    "    \"https://d37ci6vzurychx.cloudfront.net/trip-data/green_tripdata_2023-03.parquet\"\n",
    ")\n",
    "\n",
    "if not os.path.exists(raw_data_path):\n",
    "    # If the directory does not exist, create it\n",
    "    os.makedirs(raw_data_path)\n",
    "    print(f\"Directory '{raw_data_path}' created.\")\n",
    "else:\n",
    "    print(f\"Directory '{raw_data_path}' already exists.\")\n",
    "\n",
    "\n",
    "df_01_2023_green.to_parquet(f\"{raw_data_path}/green_tripdata_2023-01.parquet\")\n",
    "df_02_2023_green.to_parquet(f\"{raw_data_path}/green_tripdata_2023-02.parquet\")\n",
    "df_03_2023_green.to_parquet(f\"{raw_data_path}/green_tripdata_2023-03.parquet\")"
   ]
  },
  {
   "cell_type": "code",
   "execution_count": 14,
   "metadata": {},
   "outputs": [],
   "source": [
    "!python {script_path}/preprocess_data.py --raw_data_path {raw_data_path} --dest_path {dest_path}"
   ]
  },
  {
   "cell_type": "code",
   "execution_count": 15,
   "metadata": {},
   "outputs": [
    {
     "name": "stdout",
     "output_type": "stream",
     "text": [
      "Number of files in 'output': 4\n"
     ]
    }
   ],
   "source": [
    "file_count = len([name for name in os.listdir(dest_path) if os.path.isfile(os.path.join(dest_path, name))])\n",
    "print(f\"Number of files in '{dest_path}': {file_count}\")"
   ]
  },
  {
   "cell_type": "markdown",
   "metadata": {},
   "source": [
    "## Q3. Train a model with autolog\n",
    "\n",
    "We will train a `RandomForestRegressor` (from Scikit-Learn) on the taxi dataset.\n",
    "\n",
    "We have prepared the training script `train.py` for this exercise, which can be also found in the folder `homework`. \n",
    "\n",
    "The script will:\n",
    "\n",
    "* load the datasets produced by the previous step,\n",
    "* train the model on the training set,\n",
    "* calculate the RMSE score on the validation set.\n",
    "\n",
    "Your task is to modify the script to enable **autologging** with MLflow, execute the script and then launch the MLflow UI to check that the experiment run was properly tracked. \n",
    "\n",
    "Tip 1: don't forget to wrap the training code with a `with mlflow.start_run():` statement as we showed in the videos.\n",
    "\n",
    "Tip 2: don't modify the hyperparameters of the model to make sure that the training will finish quickly.\n",
    "\n",
    "What is the value of the `min_samples_split` parameter:\n",
    "\n",
    "* 2\n",
    "* 4\n",
    "* 8\n",
    "* 10\n"
   ]
  },
  {
   "cell_type": "code",
   "execution_count": 19,
   "metadata": {},
   "outputs": [
    {
     "name": "stdout",
     "output_type": "stream",
     "text": [
      "2024/05/29 17:49:17 INFO mlflow.store.db.utils: Creating initial MLflow database tables...\n",
      "2024/05/29 17:49:17 INFO mlflow.store.db.utils: Updating database tables\n",
      "INFO  [alembic.runtime.migration] Context impl SQLiteImpl.\n",
      "INFO  [alembic.runtime.migration] Will assume non-transactional DDL.\n",
      "INFO  [alembic.runtime.migration] Running upgrade  -> 451aebb31d03, add metric step\n",
      "INFO  [alembic.runtime.migration] Running upgrade 451aebb31d03 -> 90e64c465722, migrate user column to tags\n",
      "INFO  [alembic.runtime.migration] Running upgrade 90e64c465722 -> 181f10493468, allow nulls for metric values\n",
      "INFO  [alembic.runtime.migration] Running upgrade 181f10493468 -> df50e92ffc5e, Add Experiment Tags Table\n",
      "INFO  [alembic.runtime.migration] Running upgrade df50e92ffc5e -> 7ac759974ad8, Update run tags with larger limit\n",
      "INFO  [alembic.runtime.migration] Running upgrade 7ac759974ad8 -> 89d4b8295536, create latest metrics table\n",
      "INFO  [89d4b8295536_create_latest_metrics_table_py] Migration complete!\n",
      "INFO  [alembic.runtime.migration] Running upgrade 89d4b8295536 -> 2b4d017a5e9b, add model registry tables to db\n",
      "INFO  [2b4d017a5e9b_add_model_registry_tables_to_db_py] Adding registered_models and model_versions tables to database.\n",
      "INFO  [2b4d017a5e9b_add_model_registry_tables_to_db_py] Migration complete!\n",
      "INFO  [alembic.runtime.migration] Running upgrade 2b4d017a5e9b -> cfd24bdc0731, Update run status constraint with killed\n",
      "INFO  [alembic.runtime.migration] Running upgrade cfd24bdc0731 -> 0a8213491aaa, drop_duplicate_killed_constraint\n",
      "INFO  [alembic.runtime.migration] Running upgrade 0a8213491aaa -> 728d730b5ebd, add registered model tags table\n",
      "INFO  [alembic.runtime.migration] Running upgrade 728d730b5ebd -> 27a6a02d2cf1, add model version tags table\n",
      "INFO  [alembic.runtime.migration] Running upgrade 27a6a02d2cf1 -> 84291f40a231, add run_link to model_version\n",
      "INFO  [alembic.runtime.migration] Running upgrade 84291f40a231 -> a8c4a736bde6, allow nulls for run_id\n",
      "INFO  [alembic.runtime.migration] Running upgrade a8c4a736bde6 -> 39d1c3be5f05, add_is_nan_constraint_for_metrics_tables_if_necessary\n",
      "INFO  [alembic.runtime.migration] Running upgrade 39d1c3be5f05 -> c48cb773bb87, reset_default_value_for_is_nan_in_metrics_table_for_mysql\n",
      "INFO  [alembic.runtime.migration] Running upgrade c48cb773bb87 -> bd07f7e963c5, create index on run_uuid\n",
      "INFO  [alembic.runtime.migration] Running upgrade bd07f7e963c5 -> 0c779009ac13, add deleted_time field to runs table\n",
      "INFO  [alembic.runtime.migration] Running upgrade 0c779009ac13 -> cc1f77228345, change param value length to 500\n",
      "INFO  [alembic.runtime.migration] Running upgrade cc1f77228345 -> 97727af70f4d, Add creation_time and last_update_time to experiments table\n",
      "INFO  [alembic.runtime.migration] Running upgrade 97727af70f4d -> 3500859a5d39, Add Model Aliases table\n",
      "INFO  [alembic.runtime.migration] Running upgrade 3500859a5d39 -> 7f2a7d5fae7d, add datasets inputs input_tags tables\n",
      "INFO  [alembic.runtime.migration] Running upgrade 7f2a7d5fae7d -> 2d6e25af4d3e, increase max param val length from 500 to 8000\n",
      "INFO  [alembic.runtime.migration] Running upgrade 2d6e25af4d3e -> acf3f17fdcc7, add storage location field to model versions\n",
      "INFO  [alembic.runtime.migration] Running upgrade acf3f17fdcc7 -> 867495a8f9d4, add trace tables\n",
      "INFO  [alembic.runtime.migration] Context impl SQLiteImpl.\n",
      "INFO  [alembic.runtime.migration] Will assume non-transactional DDL.\n",
      "2024/05/29 17:49:18 INFO mlflow.tracking.fluent: Experiment with name 'homework_2' does not exist. Creating a new experiment.\n",
      "2024/05/29 17:49:18 WARNING mlflow.utils.autologging_utils: You are using an unsupported version of sklearn. If you encounter errors during autologging, try upgrading / downgrading sklearn to a supported version, or try upgrading MLflow.\n",
      "2024/05/29 17:49:19 INFO mlflow.tracking.fluent: Autologging successfully enabled for sklearn.\n",
      "2024/05/29 17:49:19 WARNING mlflow.sklearn: Failed to log training dataset information to MLflow Tracking. Reason: 'numpy.ndarray' object has no attribute 'toarray'\n",
      "2024/05/29 17:49:27 WARNING mlflow.utils.autologging_utils: MLflow autologging encountered a warning: \"/opt/anaconda3/envs/tracking/lib/python3.11/site-packages/_distutils_hack/__init__.py:26: UserWarning: Setuptools is replacing distutils.\"\n"
     ]
    }
   ],
   "source": [
    "!python {script_path}train.py --data_path {dest_path}"
   ]
  },
  {
   "cell_type": "code",
   "execution_count": 20,
   "metadata": {},
   "outputs": [
    {
     "name": "stdout",
     "output_type": "stream",
     "text": [
      "[2024-05-29 17:53:26 +0300] [7309] [INFO] Starting gunicorn 22.0.0\n",
      "[2024-05-29 17:53:26 +0300] [7309] [INFO] Listening at: http://127.0.0.1:5000 (7309)\n",
      "[2024-05-29 17:53:26 +0300] [7309] [INFO] Using worker: sync\n",
      "[2024-05-29 17:53:26 +0300] [7310] [INFO] Booting worker with pid: 7310\n",
      "[2024-05-29 17:53:26 +0300] [7311] [INFO] Booting worker with pid: 7311\n",
      "[2024-05-29 17:53:26 +0300] [7312] [INFO] Booting worker with pid: 7312\n",
      "[2024-05-29 17:53:26 +0300] [7313] [INFO] Booting worker with pid: 7313\n",
      "^C\n",
      "[2024-05-29 17:55:16 +0300] [7309] [INFO] Handling signal: int\n",
      "[2024-05-29 17:55:16 +0300] [7312] [INFO] Worker exiting (pid: 7312)\n",
      "[2024-05-29 17:55:16 +0300] [7311] [INFO] Worker exiting (pid: 7311)\n",
      "[2024-05-29 17:55:16 +0300] [7310] [INFO] Worker exiting (pid: 7310)\n",
      "[2024-05-29 17:55:16 +0300] [7313] [INFO] Worker exiting (pid: 7313)\n"
     ]
    }
   ],
   "source": [
    "!mlflow ui --backend-store-uri sqlite:///mlruns.db"
   ]
  },
  {
   "cell_type": "markdown",
   "metadata": {},
   "source": [
    "![min_samples_split](https://d3dehtdmp2rwcw.cloudfront.net/ms_562632/apO5Jdx7eNOa9zu7hNGSMfhlrtkbXO/Monosnap%2BMLflow%2B2024-05-29%2B17-56-08.png?Expires=1716994800&Signature=CkAfYAjcr3wBqCOafoC7~YyXRDmIiEHWyYsmOLLahnOm-K2Jx5GQakrGEJWOdxznswYdHzj7JsRHkmQ1CjvdxYBw0meIMKNUVuqCnnZjmAju3oiG7RznU5-RDnN5K2PfvwjSkxZkOOaNQh-49YyyLlkVsJ7Ue9JS52T-lOR5uIQN1jWUZXoE06CLZLj-TZnRz6H~~OUw19kaE9CgBBVNy8j3fg6rd2aOmRmaB0jzCahLuL31mgOGkhc74Y~FPmFNcHubeB3QsPMSw~rWAA9meOHa26-yImKaOAt9YfTThIZpkxlCgQSBND-WyiO4H8dvrXSr71HnknjIdCAO0zFGug__&Key-Pair-Id=APKAJBCGYQYURKHBGCOA)"
   ]
  },
  {
   "cell_type": "markdown",
   "metadata": {},
   "source": [
    "## Q4. Launch the tracking server locally\n",
    "\n",
    "Now we want to manage the entire lifecycle of our ML model. In this step, you'll need to launch a tracking server. This way we will also have access to the model registry. \n",
    "\n",
    "Your task is to:\n",
    "\n",
    "* launch the tracking server on your local machine,\n",
    "* select a SQLite db for the backend store and a folder called `artifacts` for the artifacts store.\n",
    "\n",
    "You should keep the tracking server running to work on the next two exercises that use the server.\n",
    "\n",
    "In addition to `backend-store-uri`, what else do you need to pass to properly configure the server?\n",
    "\n",
    "* `default-artifact-root`\n",
    "* `serve-artifacts`\n",
    "* `artifacts-only`\n",
    "* `artifacts-destination`\n"
   ]
  },
  {
   "cell_type": "code",
   "execution_count": 21,
   "metadata": {},
   "outputs": [
    {
     "name": "stdout",
     "output_type": "stream",
     "text": [
      "[2024-05-29 18:01:58 +0300] [7484] [INFO] Starting gunicorn 22.0.0\n",
      "[2024-05-29 18:01:58 +0300] [7484] [INFO] Listening at: http://127.0.0.1:5000 (7484)\n",
      "[2024-05-29 18:01:58 +0300] [7484] [INFO] Using worker: sync\n",
      "[2024-05-29 18:01:58 +0300] [7485] [INFO] Booting worker with pid: 7485\n",
      "[2024-05-29 18:01:58 +0300] [7486] [INFO] Booting worker with pid: 7486\n",
      "[2024-05-29 18:01:58 +0300] [7487] [INFO] Booting worker with pid: 7487\n",
      "[2024-05-29 18:01:59 +0300] [7488] [INFO] Booting worker with pid: 7488\n",
      "^C\n",
      "[2024-05-29 18:02:11 +0300] [7484] [INFO] Handling signal: int\n",
      "[2024-05-29 18:02:11 +0300] [7485] [INFO] Worker exiting (pid: 7485)\n",
      "[2024-05-29 18:02:11 +0300] [7487] [INFO] Worker exiting (pid: 7487)\n",
      "[2024-05-29 18:02:11 +0300] [7486] [INFO] Worker exiting (pid: 7486)\n",
      "[2024-05-29 18:02:11 +0300] [7488] [INFO] Worker exiting (pid: 7488)\n"
     ]
    }
   ],
   "source": [
    "!mlflow server --backend-store-uri sqlite:///mlruns.db --default-artifact-root ./artifacts"
   ]
  },
  {
   "cell_type": "markdown",
   "metadata": {},
   "source": [
    "## Q5. Tune model hyperparameters\n",
    "\n",
    "Now let's try to reduce the validation error by tuning the hyperparameters of the `RandomForestRegressor` using `hyperopt`. \n",
    "We have prepared the script `hpo.py` for this exercise. \n",
    "\n",
    "Your task is to modify the script `hpo.py` and make sure that the validation RMSE is logged to the tracking server for each run of the hyperparameter optimization (you will need to add a few lines of code to the `objective` function) and run the script without passing any parameters.\n",
    "\n",
    "After that, open UI and explore the runs from the experiment called `random-forest-hyperopt` to answer the question below.\n",
    "\n",
    "Note: Don't use autologging for this exercise.\n",
    "\n",
    "The idea is to just log the information that you need to answer the question below, including:\n",
    "\n",
    "* the list of hyperparameters that are passed to the `objective` function during the optimization,\n",
    "* the RMSE obtained on the validation set (February 2023 data).\n",
    "\n",
    "What's the best validation RMSE that you got?\n",
    "\n",
    "* 4.817\n",
    "* 5.335\n",
    "* 5.818\n",
    "* 6.336\n"
   ]
  },
  {
   "cell_type": "markdown",
   "metadata": {},
   "source": []
  }
 ],
 "metadata": {
  "kernelspec": {
   "display_name": "tracking",
   "language": "python",
   "name": "python3"
  },
  "language_info": {
   "codemirror_mode": {
    "name": "ipython",
    "version": 3
   },
   "file_extension": ".py",
   "mimetype": "text/x-python",
   "name": "python",
   "nbconvert_exporter": "python",
   "pygments_lexer": "ipython3",
   "version": "3.11.9"
  }
 },
 "nbformat": 4,
 "nbformat_minor": 2
}
