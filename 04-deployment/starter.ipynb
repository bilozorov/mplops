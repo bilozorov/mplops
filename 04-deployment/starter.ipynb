{
 "cells": [
  {
   "cell_type": "markdown",
   "id": "9f11cf76",
   "metadata": {},
   "source": [
    "[Homework description](https://github.com/DataTalksClub/mlops-zoomcamp/blob/main/cohorts/2024/04-deployment/homework.md) for Week 4 \"Deployment\""
   ]
  },
  {
   "cell_type": "code",
   "execution_count": null,
   "id": "b52eef5d",
   "metadata": {},
   "outputs": [],
   "source": [
    "# %pip install pipenv\n",
    "# !pipenv --python 3.11\n",
    "# !pipenv install scikit-learn==1.5.0\n",
    "# !pipenv install pandas\n",
    "# !pipenv install pyarrow"
   ]
  },
  {
   "cell_type": "markdown",
   "id": "cad2f149",
   "metadata": {},
   "source": []
  },
  {
   "cell_type": "code",
   "execution_count": 1,
   "id": "2c51efaa",
   "metadata": {},
   "outputs": [
    {
     "name": "stdout",
     "output_type": "stream",
     "text": [
      "scikit-learn==1.5.0\n"
     ]
    }
   ],
   "source": [
    "!pip freeze | grep scikit-learn"
   ]
  },
  {
   "cell_type": "code",
   "execution_count": 2,
   "id": "4acf73a0-51b5-4663-9bb8-8eb947863e17",
   "metadata": {},
   "outputs": [
    {
     "name": "stdout",
     "output_type": "stream",
     "text": [
      "Python 3.10.13\n"
     ]
    }
   ],
   "source": [
    "!python -V"
   ]
  },
  {
   "cell_type": "code",
   "execution_count": 7,
   "id": "0ef880a0",
   "metadata": {},
   "outputs": [],
   "source": [
    "import os\n",
    "import pickle\n",
    "import pandas as pd"
   ]
  },
  {
   "cell_type": "code",
   "execution_count": 2,
   "id": "7836ccfd",
   "metadata": {},
   "outputs": [],
   "source": [
    "with open('model.bin', 'rb') as f_in:\n",
    "    dv, model = pickle.load(f_in)"
   ]
  },
  {
   "cell_type": "code",
   "execution_count": 3,
   "id": "41c08294",
   "metadata": {},
   "outputs": [],
   "source": [
    "categorical = ['PULocationID', 'DOLocationID']\n",
    "\n",
    "def read_data(filename):\n",
    "    df = pd.read_parquet(filename)\n",
    "    \n",
    "    df['duration'] = df.tpep_dropoff_datetime - df.tpep_pickup_datetime\n",
    "    df['duration'] = df.duration.dt.total_seconds() / 60\n",
    "\n",
    "    df = df[(df.duration >= 1) & (df.duration <= 60)].copy()\n",
    "\n",
    "    df[categorical] = df[categorical].fillna(-1).astype('int').astype('str')\n",
    "    \n",
    "    return df"
   ]
  },
  {
   "cell_type": "code",
   "execution_count": 4,
   "id": "4854399a",
   "metadata": {},
   "outputs": [],
   "source": [
    "df = read_data('https://d37ci6vzurychx.cloudfront.net/trip-data/yellow_tripdata_2023-03.parquet')"
   ]
  },
  {
   "cell_type": "code",
   "execution_count": 5,
   "id": "669fda0a",
   "metadata": {},
   "outputs": [],
   "source": [
    "dicts = df[categorical].to_dict(orient='records')\n",
    "X_val = dv.transform(dicts)\n",
    "y_pred = model.predict(X_val)"
   ]
  },
  {
   "cell_type": "markdown",
   "id": "1e383008",
   "metadata": {},
   "source": [
    "## Q1. Notebook\n",
    "### What's the standard deviation of the predicted duration for this dataset?"
   ]
  },
  {
   "cell_type": "code",
   "execution_count": 6,
   "id": "bf532ae7-1897-428c-ba0c-875ccaf7d76c",
   "metadata": {},
   "outputs": [
    {
     "data": {
      "text/plain": [
       "6.247488852238703"
      ]
     },
     "execution_count": 6,
     "metadata": {},
     "output_type": "execute_result"
    }
   ],
   "source": [
    "y_pred.std()"
   ]
  },
  {
   "cell_type": "markdown",
   "id": "7ee34d75",
   "metadata": {},
   "source": [
    "## Q2. Preparing the output\n",
    "### What's the size of the output file?"
   ]
  },
  {
   "cell_type": "code",
   "execution_count": 15,
   "id": "2369db8c",
   "metadata": {},
   "outputs": [],
   "source": [
    "year = 2023\n",
    "month = 2\n",
    "df['ride_id'] = f'{year:04d}/{month:02d}_' + df.index.astype('str')\n",
    "df_result = pd.DataFrame({\n",
    "    'ride_id': df['ride_id'],  \n",
    "    'prediction': y_pred\n",
    "})\n",
    "\n",
    "output_dir = 'output/yellow'\n",
    "os.makedirs(output_dir, exist_ok=True)\n",
    "output_file = f'{output_dir}/predictions-{year:04d}-{month:02d}.parquet'\n",
    "\n",
    "df_result.to_parquet(\n",
    "    output_file,\n",
    "    engine='pyarrow',\n",
    "    compression=None,\n",
    "    index=False\n",
    ")"
   ]
  },
  {
   "cell_type": "code",
   "execution_count": 22,
   "id": "99013bff",
   "metadata": {},
   "outputs": [
    {
     "name": "stdout",
     "output_type": "stream",
     "text": [
      " 65M\toutput/yellow/predictions-2023-02.parquet\n"
     ]
    }
   ],
   "source": [
    "!du -h {output_file}"
   ]
  },
  {
   "cell_type": "code",
   "execution_count": 24,
   "id": "3ffa1413",
   "metadata": {},
   "outputs": [
    {
     "name": "stdout",
     "output_type": "stream",
     "text": [
      "File size MB:  65.46\n"
     ]
    }
   ],
   "source": [
    "file_size_mb = (os.path.getsize(output_file)) / 1024 / 1024\n",
    "print('File size MB: ', round(file_size_mb, 2))"
   ]
  },
  {
   "cell_type": "code",
   "execution_count": 32,
   "id": "d5547f76",
   "metadata": {},
   "outputs": [
    {
     "name": "stdout",
     "output_type": "stream",
     "text": [
      "-rw-r--r--  1 bilozorov  staff    65M Jun 12 18:02 output/yellow/predictions-2023-02.parquet\n"
     ]
    }
   ],
   "source": [
    "!ls -lh output/yellow/predictions-2023-02.parquet"
   ]
  },
  {
   "cell_type": "code",
   "execution_count": 36,
   "id": "36e8f1ec",
   "metadata": {},
   "outputs": [
    {
     "data": {
      "text/plain": [
       "65.46188354492188"
      ]
     },
     "execution_count": 36,
     "metadata": {},
     "output_type": "execute_result"
    }
   ],
   "source": [
    "os.path.getsize(output_file) / (1024 * 1024)"
   ]
  },
  {
   "cell_type": "markdown",
   "id": "a4955164",
   "metadata": {},
   "source": [
    "## Q3. Creating the scoring script\n",
    "### Which command you need to execute for that?"
   ]
  },
  {
   "cell_type": "code",
   "execution_count": 37,
   "id": "e755b3ef",
   "metadata": {},
   "outputs": [
    {
     "name": "stdout",
     "output_type": "stream",
     "text": [
      "[NbConvertApp] Converting notebook starter.ipynb to script\n",
      "[NbConvertApp] Writing 2069 bytes to starter.py\n"
     ]
    }
   ],
   "source": [
    "!jupyter nbconvert --to script starter.ipynb"
   ]
  },
  {
   "cell_type": "markdown",
   "id": "b77959e6",
   "metadata": {},
   "source": [
    "## Q4. Virtual environment\n",
    "### What's the first hash for the Scikit-Learn dependency?"
   ]
  },
  {
   "cell_type": "code",
   "execution_count": 38,
   "id": "7ffb62b5",
   "metadata": {},
   "outputs": [
    {
     "name": "stdout",
     "output_type": "stream",
     "text": [
      "First hash for Scikit-Learn: sha256:057b991ac64b3e75c9c04b5f9395eaf19a6179244c089afdebaad98264bff37c\n"
     ]
    }
   ],
   "source": [
    "import json\n",
    "\n",
    "# Path to the Pipfile.lock\n",
    "pipfile_lock_path = 'Pipfile.lock'\n",
    "\n",
    "# Read the Pipfile.lock\n",
    "with open(pipfile_lock_path, 'r') as file:\n",
    "    pipfile_lock_data = json.load(file)\n",
    "\n",
    "# Find the Scikit-Learn dependency\n",
    "scikit_learn_dependency = pipfile_lock_data['default'].get('scikit-learn', None)\n",
    "\n",
    "# Check if Scikit-Learn is present\n",
    "if scikit_learn_dependency:\n",
    "    # Get the first hash\n",
    "    first_hash = scikit_learn_dependency['hashes'][0]\n",
    "    print(f\"First hash for Scikit-Learn: {first_hash}\")\n",
    "else:\n",
    "    print(\"Scikit-Learn dependency not found in Pipfile.lock\")"
   ]
  },
  {
   "cell_type": "markdown",
   "id": "67f8419a",
   "metadata": {},
   "source": [
    "## Q5. Parametrize the script\n",
    "### What's the mean predicted duration?"
   ]
  },
  {
   "cell_type": "code",
   "execution_count": 42,
   "id": "a2f3a744",
   "metadata": {},
   "outputs": [
    {
     "name": "stdout",
     "output_type": "stream",
     "text": [
      "\u001b[32mCourtesy Notice\u001b[0m: Pipenv found itself running within a virtual environment, so it will automatically use that environment, instead of creating its own for any project. You can set \u001b[1mPIPENV_IGNORE_VIRTUALENVS=1\u001b[0m to force pipenv to ignore that environment and create its own instead. You can set \u001b[1mPIPENV_VERBOSITY=-1\u001b[0m to suppress this warning.\n",
      "The mean predicted duration is 14.292282936862449.\n"
     ]
    }
   ],
   "source": [
    "!pipenv run python starter.py yellow 2023 4"
   ]
  },
  {
   "cell_type": "markdown",
   "id": "9475599f",
   "metadata": {},
   "source": [
    "## Q6. Docker container\n",
    "### What's the mean predicted duration for May 2023?\n",
    "\n"
   ]
  },
  {
   "cell_type": "code",
   "execution_count": null,
   "id": "893813bc",
   "metadata": {},
   "outputs": [],
   "source": [
    "!docker build -t homework4 ."
   ]
  },
  {
   "cell_type": "code",
   "execution_count": 45,
   "id": "cc1f349f",
   "metadata": {},
   "outputs": [
    {
     "name": "stdout",
     "output_type": "stream",
     "text": [
      "WARNING: The requested image's platform (linux/amd64) does not match the detected host platform (linux/arm64/v8) and no specific platform was requested\n",
      "The mean predicted duration is 0.19174419265916945 for 2023-05.\n"
     ]
    }
   ],
   "source": [
    "!docker run --entrypoint python homework4 starter.py yellow 2023 5\n"
   ]
  },
  {
   "cell_type": "code",
   "execution_count": 48,
   "id": "f61ac42c",
   "metadata": {},
   "outputs": [
    {
     "name": "stdout",
     "output_type": "stream",
     "text": [
      "WARNING: The requested image's platform (linux/amd64) does not match the detected host platform (linux/arm64/v8) and no specific platform was requested\n",
      "The mean predicted duration is 0.19174419265916945 for 2023-05.\n"
     ]
    }
   ],
   "source": [
    "!docker run --rm homework4 yellow 2023 5"
   ]
  }
 ],
 "metadata": {
  "kernelspec": {
   "display_name": "Python 3 (ipykernel)",
   "language": "python",
   "name": "python3"
  },
  "language_info": {
   "codemirror_mode": {
    "name": "ipython",
    "version": 3
   },
   "file_extension": ".py",
   "mimetype": "text/x-python",
   "name": "python",
   "nbconvert_exporter": "python",
   "pygments_lexer": "ipython3",
   "version": "3.11.7"
  }
 },
 "nbformat": 4,
 "nbformat_minor": 5
}
